{
 "cells": [
  {
   "cell_type": "code",
   "execution_count": 2,
   "metadata": {},
   "outputs": [],
   "source": [
    "from pyzbar.pyzbar import decode\n",
    "from pdf2image import convert_from_path\n",
    "import os\n",
    "import numpy as np"
   ]
  },
  {
   "cell_type": "code",
   "execution_count": 6,
   "metadata": {},
   "outputs": [
    {
     "data": {
      "text/plain": [
       "'DAS-PAGO.pdf'"
      ]
     },
     "metadata": {},
     "output_type": "display_data"
    }
   ],
   "source": [
    "# aqui buscamos dentro do caminho somente os arquivos .pdf, e no caso so permitira dentro da lista arquivos que sejam .pdf\n",
    "pdfs = [i for i in os.listdir() if '.pdf' in i]\n",
    "pdf_path = pdfs[0]\n",
    "display(pdf_path)"
   ]
  },
  {
   "cell_type": "code",
   "execution_count": 18,
   "metadata": {},
   "outputs": [],
   "source": [
    "# aqui vamos converter um arquivo pdf em formato de imagem\n",
    "pages = convert_from_path(pdf_path)\n",
    "img = pages[0]"
   ]
  },
  {
   "cell_type": "code",
   "execution_count": 19,
   "metadata": {},
   "outputs": [
    {
     "data": {
      "text/plain": [
       "'85850000000656003282232507082228658638091205'"
      ]
     },
     "metadata": {},
     "output_type": "display_data"
    }
   ],
   "source": [
    "# decodificando foto e pegando os dados\n",
    "# podemos verificar o tipo do código de barras, usaremos .type\n",
    "def detectando_cod_bars():\n",
    "    detected_datas = decode(img)\n",
    "    if not detected_datas:\n",
    "        return False\n",
    "    else:\n",
    "        for barcode in detected_datas:\n",
    "            barcode = detected_datas[1]\n",
    "            if barcode.data != '' and barcode.type == 'I25':\n",
    "                # retornar a uma string do python\n",
    "                barcode_ = barcode.data.decode('utf-8')\n",
    "    return barcode_\n",
    "\n",
    "\n",
    "def linha_digitavel(linha):\n",
    "    # https://www.bb.com.br/docs/pub/emp/mpe/dwn/PadraoCodigoBarras.pdf\n",
    "    def modulo10(num):\n",
    "        soma = 0\n",
    "        peso = 2\n",
    "        for c in reversed(num):\n",
    "            parcial = int(c) * peso\n",
    "            if parcial > 9:\n",
    "                s = str(parcial)\n",
    "                parcial = int(s[0]) + int(s[1])\n",
    "            soma += parcial\n",
    "            if peso == 2:\n",
    "                peso = 1\n",
    "            else:\n",
    "                peso = 2\n",
    "\n",
    "        resto10 = soma % 10\n",
    "        if resto10 == 0:\n",
    "            modulo10 = 0\n",
    "        else:\n",
    "            modulo10 = 10 - resto10\n",
    "        return modulo10\n",
    "\n",
    "    def monta_campo(campo):\n",
    "        campo_dv = \"%s%s\" % (campo, modulo10(campo))\n",
    "        return \"%s.%s\" % (campo_dv[0:5], campo_dv[5:])\n",
    "\n",
    "    return ' '.join([monta_campo(linha[0:4] + linha[19:24]),\n",
    "                     monta_campo(linha[24:34]),\n",
    "                     monta_campo(linha[34:44]),\n",
    "                     linha[4],\n",
    "                     linha[5:19]])\n",
    "\n",
    "\n",
    "display(detectando_cod_bars())"
   ]
  }
 ],
 "metadata": {
  "kernelspec": {
   "display_name": ".venv",
   "language": "python",
   "name": "python3"
  },
  "language_info": {
   "codemirror_mode": {
    "name": "ipython",
    "version": 3
   },
   "file_extension": ".py",
   "mimetype": "text/x-python",
   "name": "python",
   "nbconvert_exporter": "python",
   "pygments_lexer": "ipython3",
   "version": "3.11.4"
  },
  "orig_nbformat": 4
 },
 "nbformat": 4,
 "nbformat_minor": 2
}
