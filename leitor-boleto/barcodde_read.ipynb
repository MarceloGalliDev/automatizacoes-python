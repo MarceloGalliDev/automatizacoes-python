{
 "cells": [
  {
   "cell_type": "code",
   "execution_count": 2,
   "metadata": {},
   "outputs": [],
   "source": [
    "from pyzbar.pyzbar import decode\n",
    "from pdf2image import convert_from_path\n",
    "import os\n",
    "import numpy as np"
   ]
  },
  {
   "cell_type": "code",
   "execution_count": 15,
   "metadata": {},
   "outputs": [
    {
     "data": {
      "text/plain": [
       "'DAS-PAGO.pdf'"
      ]
     },
     "metadata": {},
     "output_type": "display_data"
    }
   ],
   "source": [
    "# aqui buscamos dentro do caminho somente os arquivos .pdf, e no caso so permitira dentro da lista arquivos que sejam .pdf\n",
    "pdfs = [i for i in os.listdir() if '.pdf' in i]\n",
    "pdf_path = pdfs[0]\n",
    "display(pdf_path)"
   ]
  },
  {
   "cell_type": "code",
   "execution_count": 20,
   "metadata": {},
   "outputs": [],
   "source": [
    "# aqui vamos converter um arquivo pdf em formato de imagem\n",
    "pages = convert_from_path(pdf_path)\n",
    "img = pages[0]"
   ]
  },
  {
   "cell_type": "code",
   "execution_count": null,
   "metadata": {},
   "outputs": [],
   "source": [
    "# decodificando foto e pegando os dados\n",
    "# podemos verificar o tipo do código de barras, usaremos .type\n",
    "detected_datas = decode(img)\n",
    "if not detected_datas:\n",
    "    return False\n",
    "else:\n",
    "    for barcode in detected_datas:\n",
    "        barcode = detected_datas[1]\n",
    "        if barcode.data != '' and barcode.type == 'I25':\n",
    "            barcode_ = barcode.data.decode('utf-8') #retornar a uma string do python\n"
   ]
  }
 ],
 "metadata": {
  "kernelspec": {
   "display_name": ".venv",
   "language": "python",
   "name": "python3"
  },
  "language_info": {
   "codemirror_mode": {
    "name": "ipython",
    "version": 3
   },
   "file_extension": ".py",
   "mimetype": "text/x-python",
   "name": "python",
   "nbconvert_exporter": "python",
   "pygments_lexer": "ipython3",
   "version": "3.11.4"
  },
  "orig_nbformat": 4
 },
 "nbformat": 4,
 "nbformat_minor": 2
}
