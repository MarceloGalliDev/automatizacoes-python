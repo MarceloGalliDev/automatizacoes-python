{
 "cells": [
  {
   "cell_type": "code",
   "execution_count": 1,
   "metadata": {},
   "outputs": [],
   "source": [
    "from pyzbar.pyzbar import decode\n",
    "from pdf2image import convert_from_path\n",
    "import os\n",
    "import numpy as np"
   ]
  },
  {
   "cell_type": "code",
   "execution_count": 3,
   "metadata": {},
   "outputs": [
    {
     "data": {
      "text/plain": [
       "'DAS-PAGO.pdf'"
      ]
     },
     "metadata": {},
     "output_type": "display_data"
    }
   ],
   "source": [
    "# aqui buscamos dentro do caminho somente os arquivos .pdf, e no caso so permitira dentro da lista arquivos que sejam .pdf\n",
    "pdfs = [i for i in os.listdir() if '.pdf' in i]\n",
    "pdf_path = pdfs[1]\n",
    "display(pdf_path)"
   ]
  },
  {
   "cell_type": "code",
   "execution_count": 4,
   "metadata": {},
   "outputs": [],
   "source": [
    "# aqui vamos converter um arquivo pdf em formato de imagem\n",
    "pages = convert_from_path(pdf_path)\n",
    "img = pages[0]"
   ]
  },
  {
   "cell_type": "code",
   "execution_count": 29,
   "metadata": {},
   "outputs": [
    {
     "name": "stdout",
     "output_type": "stream",
     "text": [
      "[2, 0, 1, 7]\n"
     ]
    }
   ],
   "source": [
    "# decodificando foto e pegando os dados\n",
    "# podemos verificar o tipo do código de barras, usaremos .type\n",
    "def detectando_cod_bars():\n",
    "    detected_datas = decode(img)\n",
    "    if not detected_datas:\n",
    "        return False\n",
    "    else:\n",
    "        for barcode in detected_datas:\n",
    "            barcode = detected_datas[1]\n",
    "            if barcode.data != '' and barcode.type == 'I25':\n",
    "                # retornar a uma string do python\n",
    "                barcode_ = barcode.data.decode('utf-8')\n",
    "    return barcode_\n",
    "\n",
    "\n",
    "class linha_digitavel():\n",
    "\n",
    "    def tipo_boleto(barcode):\n",
    "        if barcode[0] == '8':\n",
    "            match barcode[1]:\n",
    "                case '1':\n",
    "                    print('Prefeituras')\n",
    "                case '2':\n",
    "                    print('Saneamento')\n",
    "                case '3':\n",
    "                    print('Energia Elétrica e Gás')\n",
    "                case '4':\n",
    "                    print('Telecomunicação')\n",
    "                case '5':\n",
    "                    print('Órgãos Governamentais')\n",
    "                case '6':\n",
    "                    print(\n",
    "                        'Carnês e assemelhados ou demais empresas/orgãos id através do CNPJ')\n",
    "                case '7':\n",
    "                    print('Multas de trânsito')\n",
    "                case '9':\n",
    "                    print('Uso exclusivo do banco')\n",
    "            match barcode[2]:\n",
    "                case '6':\n",
    "                    print('Modulo 10')\n",
    "                case '7':\n",
    "                    print('Modulo 10')\n",
    "                case '8':\n",
    "                    print('Modulo 11')\n",
    "                case '9':\n",
    "                    print('Modulo 11')\n",
    "\n",
    "    def modulo11(barcode):\n",
    "        pesos = [4, 3, 2, 9, 8, 7, 6, 5, 4, 3, 2]\n",
    "\n",
    "        segmentos = []\n",
    "        start = 0\n",
    "        digitos = []\n",
    "\n",
    "        for i in range(4):\n",
    "            segmentos.append(barcode[start:start+11])\n",
    "            start += 11\n",
    "\n",
    "        for segmento in segmentos:\n",
    "            calculo_valores = [int(campo) * peso for campo,\n",
    "                               peso in zip(segmento, pesos)]\n",
    "            soma_campos = sum(calculo_valores)\n",
    "            soma_campos = soma_campos % 11\n",
    "            if soma_campos in [0, 1]:\n",
    "                soma_campos = 0\n",
    "            elif soma_campos == 10:\n",
    "                soma_campos = 1\n",
    "            else:\n",
    "                soma_campos = 11 - soma_campos\n",
    "\n",
    "            digitos.append(soma_campos)\n",
    "        return digitos\n",
    "\n",
    "\n",
    "barcode = '85850000000656003282232507082228658638091205'\n",
    "print(linha_digitavel.modulo11(barcode))"
   ]
  }
 ],
 "metadata": {
  "kernelspec": {
   "display_name": ".venv",
   "language": "python",
   "name": "python3"
  },
  "language_info": {
   "codemirror_mode": {
    "name": "ipython",
    "version": 3
   },
   "file_extension": ".py",
   "mimetype": "text/x-python",
   "name": "python",
   "nbconvert_exporter": "python",
   "pygments_lexer": "ipython3",
   "version": "3.11.4"
  },
  "orig_nbformat": 4
 },
 "nbformat": 4,
 "nbformat_minor": 2
}
