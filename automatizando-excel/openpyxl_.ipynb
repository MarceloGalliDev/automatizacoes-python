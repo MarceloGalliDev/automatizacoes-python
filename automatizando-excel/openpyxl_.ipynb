{
 "cells": [
  {
   "cell_type": "code",
   "execution_count": 1,
   "metadata": {},
   "outputs": [],
   "source": [
    "from openpyxl import load_workbook\n",
    "from openpyxl.drawing.image import Image"
   ]
  },
  {
   "cell_type": "code",
   "execution_count": 3,
   "metadata": {},
   "outputs": [],
   "source": [
    "#lendo arquivos\n",
    "wb = load_workbook('data/exemplo.xlsx')"
   ]
  },
  {
   "cell_type": "code",
   "execution_count": null,
   "metadata": {},
   "outputs": [],
   "source": [
    "# base do openpyxl\n",
    "\n",
    "#lendo as abas do arquivo\n",
    "wb.get_sheet_names()\n",
    "\n",
    "#trabalhar com uma aba especifica\n",
    "wb.get_sheet_by_name('sheet1')\n",
    "sheet = wb['Sheet1']\n",
    "\n",
    "#selecionando as celulas especificas\n",
    "sheet['A3'].value\n",
    "sheet.cell(row=3, column=1).value\n",
    "\n",
    "#quantidade de linhas ou colunas de uma determinada coluna\n",
    "sheet.max_row\n",
    "sheet.max_column\n",
    "\n",
    "for i in range(0, sheet.max_row):\n",
    "    print(sheet.cell(row=i+1, column=2))\n",
    "    \n",
    "#salvando o arquivo, ela entende em cadei, ou seja altera somente os dados em memória\n",
    "wb.save('exemplo.xlsx')\n",
    "\n",
    "\n",
    "#agrupando arquivos\n",
    "sheet.merge_cells('A1:D1')\n",
    "sheet.unmerge_cells('A1:D2')\n",
    "\n",
    "#inserindo linhas e colunas\n",
    "sheet.insert_rows() #aqui é a posição da linha\n",
    "sheet.insert_cols()\n",
    "\n",
    "#deletando linhas e colunas\n",
    "sheet.delete_rows() # aqui passamos o inicio e o final a ser deletado\n",
    "sheet.delete_cols()\n",
    "\n",
    "#adicionando imagem\n",
    "img = Image('data/catlogo.png')\n",
    "sheet.add_image(img, 'A1')"
   ]
  },
  {
   "cell_type": "code",
   "execution_count": null,
   "metadata": {},
   "outputs": [],
   "source": [
    "# formulas"
   ]
  }
 ],
 "metadata": {
  "kernelspec": {
   "display_name": ".venv",
   "language": "python",
   "name": "python3"
  },
  "language_info": {
   "codemirror_mode": {
    "name": "ipython",
    "version": 3
   },
   "file_extension": ".py",
   "mimetype": "text/x-python",
   "name": "python",
   "nbconvert_exporter": "python",
   "pygments_lexer": "ipython3",
   "version": "3.11.3"
  },
  "orig_nbformat": 4
 },
 "nbformat": 4,
 "nbformat_minor": 2
}
